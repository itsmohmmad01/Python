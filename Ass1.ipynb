{
 "cells": [
  {
   "cell_type": "markdown",
   "metadata": {},
   "source": [
    "Identify the Employee Category"
   ]
  },
  {
   "cell_type": "code",
   "execution_count": 14,
   "metadata": {},
   "outputs": [
    {
     "name": "stdout",
     "output_type": "stream",
     "text": [
      "Enter the employee's salary: 44444\n",
      "category Medium Income\n"
     ]
    }
   ],
   "source": [
    "salary = float(input(\"Enter the employee's salary: \"))\n",
    "\n",
    "if salary > 50000:\n",
    "    category = \"High Income\"\n",
    "elif 30000 <= salary <= 50000:\n",
    "    category = \"Medium Income\"\n",
    "else:\n",
    "    category = \"Low Income\"\n",
    "\n",
    "print( \"category\",category)\n"
   ]
  },
  {
   "cell_type": "markdown",
   "metadata": {},
   "source": [
    "Odd or Even Streetlight System"
   ]
  },
  {
   "cell_type": "code",
   "execution_count": 6,
   "metadata": {},
   "outputs": [
    {
     "name": "stdout",
     "output_type": "stream",
     "text": [
      "Enter the number: 5\n",
      "Streetlight Turned off\n"
     ]
    }
   ],
   "source": [
    "Streetlight = int(input(\"Enter the number: \"))\n",
    "\n",
    "if Streetlight % 2 == 0:\n",
    "    print(\"Streetlight Turned on\")\n",
    "else:\n",
    "    print(\"Streetlight Turned off\")\n"
   ]
  },
  {
   "cell_type": "markdown",
   "metadata": {},
   "source": [
    "Imagine you are designing a basic ATM-like interface where users can:"
   ]
  },
  {
   "cell_type": "code",
   "execution_count": 12,
   "metadata": {},
   "outputs": [
    {
     "name": "stdout",
     "output_type": "stream",
     "text": [
      "Enter the amount to withdraw: 5000\n",
      "Withdrawal successful.\n",
      "Remaining balance: 5000\n"
     ]
    }
   ],
   "source": [
    "def bank(balance):\n",
    "    withdraw = int(input(\"Enter the amount to withdraw: \"))\n",
    "\n",
    "    if withdraw > balance:\n",
    "        print(\"not funds.\")\n",
    "    else:\n",
    "        print(\"Withdrawal successful.\")\n",
    "        balance = balance - withdraw\n",
    "\n",
    "    print(\"Remaining balance:\", balance)\n",
    "\n",
    "balance = 10000\n",
    "bank(balance)"
   ]
  },
  {
   "cell_type": "code",
   "execution_count": 19,
   "metadata": {},
   "outputs": [
    {
     "name": "stdout",
     "output_type": "stream",
     "text": [
      "Enter a first bus stop tickets: 5\n",
      "Enter a first bus stop tickets: 3\n",
      "Enter a first bus stop tickets: 2\n",
      "Enter a first bus stop tickets: 5\n",
      "Enter a first bus stop tickets: 7\n",
      "22\n"
     ]
    }
   ],
   "source": [
    "i = 1\n",
    "count = 0\n",
    "while i <= 5:\n",
    "    first_stop = int(input(\"Enter a first bus stop tickets: \"))\n",
    "    count += first_stop\n",
    "    i = i + 1\n",
    "print(count)"
   ]
  },
  {
   "cell_type": "code",
   "execution_count": 25,
   "metadata": {},
   "outputs": [
    {
     "name": "stdout",
     "output_type": "stream",
     "text": [
      "Enter the number: 1234\n",
      "reverse number 4321\n"
     ]
    }
   ],
   "source": [
    "num = int(input(\"Enter the number: \"))\n",
    "sum = 0  \n",
    "reversed_num = 0  \n",
    "while num > 0:\n",
    "    remainder = num % 10\n",
    "    reversed_num = reversed_num * 10 + remainder\n",
    "    num = num // 10\n",
    "print(\"reverse number\", reversed_num)"
   ]
  },
  {
   "cell_type": "code",
   "execution_count": 30,
   "metadata": {},
   "outputs": [
    {
     "name": "stdout",
     "output_type": "stream",
     "text": [
      "Enter the pin: 1235\n",
      "Enter the pin: 1236\n",
      "Enter the pin: 1321\n",
      "blocked\n"
     ]
    }
   ],
   "source": [
    "gm = 1234\n",
    "count = 0\n",
    "\n",
    "while count < 3:\n",
    "    pin = int(input(\"Enter the pin: \"))\n",
    "    if gm == pin:\n",
    "        print(\"user access gained\")\n",
    "        break  \n",
    "    else:\n",
    "        count = count + 1\n",
    "\n",
    "if count == 3: \n",
    "    print(\"blocked\")\n",
    "    "
   ]
  },
  {
   "cell_type": "code",
   "execution_count": null,
   "metadata": {},
   "outputs": [],
   "source": []
  }
 ],
 "metadata": {
  "kernelspec": {
   "display_name": "Python 3",
   "language": "python",
   "name": "python3"
  },
  "language_info": {
   "codemirror_mode": {
    "name": "ipython",
    "version": 3
   },
   "file_extension": ".py",
   "mimetype": "text/x-python",
   "name": "python",
   "nbconvert_exporter": "python",
   "pygments_lexer": "ipython3",
   "version": "3.8.5"
  }
 },
 "nbformat": 4,
 "nbformat_minor": 4
}
