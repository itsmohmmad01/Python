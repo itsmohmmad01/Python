{
 "cells": [
  {
   "cell_type": "code",
   "execution_count": 5,
   "metadata": {},
   "outputs": [
    {
     "name": "stdout",
     "output_type": "stream",
     "text": [
      "highest sales is  9000\n",
      "low sales is  5000\n"
     ]
    }
   ],
   "source": [
    "import numpy as np\n",
    "a = np.array([5000, 7000, 8000, 6500, 7200, 9000, 8500])\n",
    "print(\"highest sales is \", max(a))\n",
    "print(\"low sales is \", min(a))"
   ]
  },
  {
   "cell_type": "code",
   "execution_count": 12,
   "metadata": {},
   "outputs": [
    {
     "data": {
      "text/plain": [
       "array([[1000, 1200],\n",
       "       [1500, 1800],\n",
       "       [2000, 2100],\n",
       "       [2500, 2700]])"
      ]
     },
     "execution_count": 12,
     "metadata": {},
     "output_type": "execute_result"
    }
   ],
   "source": [
    "import numpy as np\n",
    "arr=np.array([1000, 1200, 1500, 1800, 2000, 2100, 2500, 2700])\n",
    "arr.reshape(4,2)"
   ]
  },
  {
   "cell_type": "code",
   "execution_count": 14,
   "metadata": {},
   "outputs": [
    {
     "name": "stdout",
     "output_type": "stream",
     "text": [
      "Reveneve is 2400\n"
     ]
    }
   ],
   "source": [
    "import numpy as np\n",
    "quantities = np.array([10, 15, 7, 20])\n",
    "prices = np.array([50, 40, 100, 30])\n",
    "Reveneve=np.sum(quantities*prices)\n",
    "print(\"Reveneve is\",Reveneve)"
   ]
  },
  {
   "cell_type": "code",
   "execution_count": 22,
   "metadata": {},
   "outputs": [
    {
     "name": "stdout",
     "output_type": "stream",
     "text": [
      " passed: [60 42 75 90 55]\n"
     ]
    }
   ],
   "source": [
    "import numpy as np\n",
    "marks = np.array([35, 60, 42, 75, 29, 90, 55])\n",
    "passed= marks[marks >= 40]\n",
    "print(\" passed:\", passed)\n"
   ]
  },
  {
   "cell_type": "code",
   "execution_count": 29,
   "metadata": {},
   "outputs": [
    {
     "data": {
      "text/plain": [
       "array([50])"
      ]
     },
     "execution_count": 29,
     "metadata": {},
     "output_type": "execute_result"
    }
   ],
   "source": [
    "import numpy as np\n",
    "arr=np.array([50, 80, 90, 60, 75, 85])\n",
    "arr[0:1]"
   ]
  },
  {
   "cell_type": "code",
   "execution_count": 32,
   "metadata": {},
   "outputs": [
    {
     "name": "stdout",
     "output_type": "stream",
     "text": [
      "most_common 4\n"
     ]
    }
   ],
   "source": [
    "import numpy as np\n",
    "from collections import Counter\n",
    "\n",
    "arr = np.array([1, 2, 2, 3, 3, 3, 4, 4, 4, 4])\n",
    "counts = Counter(arr)\n",
    "most_common = counts.most_common(1)[0][0]\n",
    "print(\"most_common\",most_common)"
   ]
  },
  {
   "cell_type": "code",
   "execution_count": null,
   "metadata": {},
   "outputs": [],
   "source": []
  }
 ],
 "metadata": {
  "kernelspec": {
   "display_name": "Python 3",
   "language": "python",
   "name": "python3"
  },
  "language_info": {
   "codemirror_mode": {
    "name": "ipython",
    "version": 3
   },
   "file_extension": ".py",
   "mimetype": "text/x-python",
   "name": "python",
   "nbconvert_exporter": "python",
   "pygments_lexer": "ipython3",
   "version": "3.8.5"
  }
 },
 "nbformat": 4,
 "nbformat_minor": 4
}
